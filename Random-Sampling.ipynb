{
 "cells": [
  {
   "cell_type": "markdown",
   "metadata": {},
   "source": [
    "## Random Sampling\n",
    "Алгоритм перебалансировки наблюдений по классам"
   ]
  },
  {
   "attachments": {
    "delete.png": {
     "image/png": "[encoded data removed]"
    }
   },
   "cell_type": "markdown",
   "metadata": {},
   "source": [
    "### Under sampling \n",
    "\n",
    "Перебалансировка удалением случайного наблюдения из больших классов до числа наблюдений соответствующих минимальному классу\n",
    "\n",
    "![delete.png](attachment:delete.png)"
   ]
  },
  {
   "attachments": {
    "add.png": {
     "image/png": "[encoded data removed]"
    }
   },
   "cell_type": "markdown",
   "metadata": {},
   "source": [
    "### Over sampling\n",
    "\n",
    "Перебалансировка добавлением случайного наблюдения малым классам до числа наблюдений соответствующих максимальному классу (своеобразный Bootstrap).\n",
    "    \n",
    "![add.png](attachment:add.png)"
   ]
  },
  {
   "cell_type": "code",
   "execution_count": 2,
   "metadata": {},
   "outputs": [],
   "source": [
    "from sklearn import datasets\n",
    "from sklearn.model_selection import train_test_split\n",
    "from matplotlib import pyplot as plt\n",
    "\n",
    "import numpy as np\n",
    "import random\n",
    "import pandas as pd"
   ]
  },
  {
   "cell_type": "markdown",
   "metadata": {},
   "source": [
    "## Подготовка данных - задание дисбаланса."
   ]
  },
  {
   "cell_type": "code",
   "execution_count": 95,
   "metadata": {},
   "outputs": [
    {
     "name": "stdout",
     "output_type": "stream",
     "text": [
      "Начальный размер классов: [ 81 126 168]\n",
      "\n",
      "*** Результат скользящего контроля ***\n",
      "Доля верных ответов: 0.639\n"
     ]
    }
   ],
   "source": [
    "X, y = datasets.make_classification(n_classes=3, n_informative=5, n_samples=500)\n",
    "\n",
    "indexes0 = np.where(y==0)[0]\n",
    "indexes1 = np.where(y==1)[0]\n",
    "indexes2 = np.where(y==2)[0]\n",
    "\n",
    "new0 = np.random.choice(indexes0, int(len(indexes0) * 0.5), replace=False)\n",
    "new1 = np.random.choice(indexes1, int(len(indexes1) * 0.75), replace=False)\n",
    "new2 = indexes2\n",
    "\n",
    "indexes = np.hstack([new0, new1, new2])\n",
    "\n",
    "X = X[indexes,:].copy()\n",
    "y = y[indexes].copy()\n",
    "\n",
    "print(\"Начальный размер классов:\", np.bincount(y))\n",
    "\n",
    "clf = KNN(k=3)\n",
    "cv = clf.cv(X, y, cv=5)\n",
    "\n",
    "print(\"\\n*** Результат скользящего контроля ***\")\n",
    "print(\"Доля верных ответов:\", str(cv)[:5])"
   ]
  },
  {
   "cell_type": "code",
   "execution_count": 84,
   "metadata": {
    "code_folding": [
     0
    ]
   },
   "outputs": [],
   "source": [
    "class KNN:\n",
    "    def __init__(self, k=3):\n",
    "        self.k = k\n",
    "        \n",
    "    def fit(self, X_train, y_train):\n",
    "        self.X_train = X_train\n",
    "        self.y_train = y_train\n",
    "        \n",
    "    def predict(self, X_test):\n",
    "        labels = [self.find_labels(x_test) for x_test in X_test]\n",
    "        return np.array(labels)\n",
    "    \n",
    "    def find_labels(self, x_test):\n",
    "        distances = [self.distance(x_test, x_train) for x_train in self.X_train]   \n",
    "        k_nearest = np.argsort(distances)[:self.k]\n",
    "        y_labels = [self.y_train[i] for i in k_nearest]\n",
    "            \n",
    "        return self.most_common(y_labels)\n",
    "        \n",
    "    def most_common(self, y_labels):\n",
    "        a = tuple(set(y_labels))\n",
    "        count = [y_labels.count(i) for i in a]\n",
    "        return a[np.argsort(count)[-1]]\n",
    "    \n",
    "    def score(self, y_predicted, y_train):\n",
    "        return (y_predicted == y_train).sum() / len(y_train)\n",
    "\n",
    "    def distance(self, x_test, x_train):\n",
    "        return np.sqrt(np.abs(np.sum((x_test - x_train)**2)))\n",
    "    \n",
    "    def cv(self, X, y, cv=5):\n",
    "        y = np.reshape(y, (len(y), 1))\n",
    "        data = np.concatenate((X, y), axis=1)\n",
    "        np.random.shuffle(data)\n",
    "        \n",
    "        data = pd.DataFrame(data)\n",
    "        score = []\n",
    "        \n",
    "        for i in range(cv):\n",
    "            lenght = int(len(y) / cv)\n",
    "            \n",
    "            end = i * lenght + lenght\n",
    "            \n",
    "            if i == cv - 1: \n",
    "                end = -1\n",
    "            \n",
    "            X_test = data.iloc[i * lenght: end, :-1]\n",
    "            X_train = data.drop(index=X_test.index).iloc[:, :-1]\n",
    "            \n",
    "            y_test = data.iloc[i * lenght: end, -1]\n",
    "            y_train = data.drop(index=X_test.index).iloc[:, -1]\n",
    "            \n",
    "            clf = KNN(k=self.k)\n",
    "            clf.fit(np.array(X_train), np.array(y_train))\n",
    "            s_ = clf.score(clf.predict(np.array(X_test)), np.array(y_test))\n",
    "            score.append(s_)\n",
    "        \n",
    "        return np.array(score).mean()"
   ]
  },
  {
   "cell_type": "code",
   "execution_count": 110,
   "metadata": {
    "code_folding": [
     0
    ],
    "run_control": {
     "marked": false
    }
   },
   "outputs": [],
   "source": [
    "class RandomSampling(object):\n",
    "    def __init__(self, X, y, method):\n",
    "        self.X = X\n",
    "        self.y = y\n",
    "        self.method = method\n",
    "    \n",
    "    def resample(self):\n",
    "        cnt = np.bincount(self.y)\n",
    "        \n",
    "        min_, max_ = min(np.bincount(y)), max(np.bincount(y))\n",
    "        \n",
    "        for i in np.unique(self.y):\n",
    "            amount = cnt[i]\n",
    "            X_c = self.X[self.y == i]\n",
    "            \n",
    "            if self.method == \"over-sampling\":\n",
    "                while amount < max_:\n",
    "                    ind = random.randrange(0, X_c.shape[0])\n",
    "                    X_bs = np.array([X_c[ind]])\n",
    "                    self.X = np.concatenate((self.X, X_bs), axis=0)\n",
    "                    self.y = np.append(self.y, i)\n",
    "                    amount += 1\n",
    "\n",
    "            if self.method == \"under-sampling\":\n",
    "                while amount > min_:\n",
    "                    y_index = np.where(self.y == i)[0]\n",
    "                    index = random.choice(y_index)\n",
    "                    self.X = np.delete(self.X, index, axis=0)\n",
    "                    self.y = np.delete(self.y, index)\n",
    "                    amount -= 1\n",
    "\n",
    "        return self.X, self.y"
   ]
  },
  {
   "cell_type": "code",
   "execution_count": 111,
   "metadata": {},
   "outputs": [
    {
     "name": "stdout",
     "output_type": "stream",
     "text": [
      "*** Перебалансировка классов до минимального ***\n",
      "Размер классов: [81 81 81]\n",
      "\n",
      "*** Результат скользящего контроля ***\n",
      "Доля верных ответов: 0.624\n"
     ]
    }
   ],
   "source": [
    "res = RandomSampling(X, y, method=\"under-sampling\")\n",
    "X_res, y_res = res.resample()\n",
    "\n",
    "print(\"*** Перебалансировка классов до минимального ***\")\n",
    "print(\"Размер классов:\", np.bincount(y_res))\n",
    "\n",
    "clf = KNN(k=3)\n",
    "cv = clf.cv(X_res, y_res, cv=5)\n",
    "\n",
    "print(\"\\n*** Результат скользящего контроля ***\")\n",
    "print(\"Доля верных ответов:\", str(cv)[:5])"
   ]
  },
  {
   "cell_type": "code",
   "execution_count": 112,
   "metadata": {},
   "outputs": [
    {
     "name": "stdout",
     "output_type": "stream",
     "text": [
      "*** Перебалансировка классов до максимального ***\n",
      "Размер классов: [168 168 168]\n",
      "\n",
      "*** Результат скользящего контроля ***\n",
      "Доля верных ответов: 0.747\n"
     ]
    }
   ],
   "source": [
    "res = RandomSampling(X, y, method=\"over-sampling\")\n",
    "X_res, y_res = res.resample()\n",
    "\n",
    "print(\"*** Перебалансировка классов до максимального ***\")\n",
    "print(\"Размер классов:\", np.bincount(y_res))\n",
    "\n",
    "clf = KNN(k=3)\n",
    "cv = clf.cv(X_res, y_res, cv=5)\n",
    "\n",
    "print(\"\\n*** Результат скользящего контроля ***\")\n",
    "print(\"Доля верных ответов:\", str(cv)[:5])"
   ]
  },
  {
   "cell_type": "code",
   "execution_count": null,
   "metadata": {},
   "outputs": [],
   "source": []
  },
  {
   "cell_type": "code",
   "execution_count": null,
   "metadata": {},
   "outputs": [],
   "source": []
  },
  {
   "cell_type": "code",
   "execution_count": null,
   "metadata": {},
   "outputs": [],
   "source": []
  }
 ],
 "metadata": {
  "kernelspec": {
   "display_name": "Python 3",
   "language": "python",
   "name": "python3"
  },
  "language_info": {
   "codemirror_mode": {
    "name": "ipython",
    "version": 3
   },
   "file_extension": ".py",
   "mimetype": "text/x-python",
   "name": "python",
   "nbconvert_exporter": "python",
   "pygments_lexer": "ipython3",
   "version": "3.8.3"
  },
  "varInspector": {
   "cols": {
    "lenName": 16,
    "lenType": 16,
    "lenVar": 40
   },
   "kernels_config": {
    "python": {
     "delete_cmd_postfix": "",
     "delete_cmd_prefix": "del ",
     "library": "var_list.py",
     "varRefreshCmd": "print(var_dic_list())"
    },
    "r": {
     "delete_cmd_postfix": ") ",
     "delete_cmd_prefix": "rm(",
     "library": "var_list.r",
     "varRefreshCmd": "cat(var_dic_list()) "
    }
   },
   "types_to_exclude": [
    "module",
    "function",
    "builtin_function_or_method",
    "instance",
    "_Feature"
   ],
   "window_display": false
  }
 },
 "nbformat": 4,
 "nbformat_minor": 4
}
